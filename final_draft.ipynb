{
 "cells": [
  {
   "cell_type": "code",
   "execution_count": 1,
   "metadata": {},
   "outputs": [
    {
     "name": "stdout",
     "output_type": "stream",
     "text": [
      "Requirement already satisfied: opencv-python in c:\\users\\user\\anaconda3\\lib\\site-packages (4.5.2.52)\n",
      "Requirement already satisfied: numpy>=1.14.5 in c:\\users\\user\\anaconda3\\lib\\site-packages (from opencv-python) (1.18.1)\n",
      "Note: you may need to restart the kernel to use updated packages.\n"
     ]
    }
   ],
   "source": [
    "pip install opencv-python"
   ]
  },
  {
   "cell_type": "code",
   "execution_count": 2,
   "metadata": {},
   "outputs": [],
   "source": [
    "import cv2 as cv\n",
    "import numpy as np\n",
    "import math\n",
    "\n",
    "from matplotlib import pyplot as plt\n",
    "from skimage.measure import approximate_polygon"
   ]
  },
  {
   "cell_type": "code",
   "execution_count": 3,
   "metadata": {},
   "outputs": [],
   "source": [
    "img = cv.imread('test_picture_3.JPG')\n",
    "img_gray = cv.imread('test_picture_3.JPG',0)\n",
    "\n",
    "ret, thresh = cv.threshold(img_gray, 230, 200, 0)\n",
    "contours, hierarchy = cv.findContours(thresh, cv.RETR_TREE, cv.CHAIN_APPROX_NONE)\n",
    "\n",
    "# cv.drawContours(img, contours, -1, (0, 255, 0), 3)\n",
    "# cv.imshow('Image', img)\n",
    "# cv.waitKey(0)\n",
    "# cv.destroyAllWindows()"
   ]
  },
  {
   "cell_type": "code",
   "execution_count": 4,
   "metadata": {
    "scrolled": true
   },
   "outputs": [
    {
     "data": {
      "image/png": "[encoded data removed]",
      "text/plain": [
       "<Figure size 288x288 with 1 Axes>"
      ]
     },
     "metadata": {
      "needs_background": "light"
     },
     "output_type": "display_data"
    }
   ],
   "source": [
    "circle_contour = np.squeeze(contours[8])\n",
    "approx_circle_contour = approximate_polygon(circle_contour, tolerance=2.5)\n",
    "\n",
    "fig, (ax1) = plt.subplots(figsize=(4, 4))\n",
    "ax1.plot(approx_circle_contour[:, 0], approx_circle_contour[:, 1])\n",
    "plt.show()"
   ]
  },
  {
   "cell_type": "code",
   "execution_count": 5,
   "metadata": {
    "scrolled": false
   },
   "outputs": [
    {
     "data": {
      "text/plain": [
       "array([[172,  57],\n",
       "       [206,  59],\n",
       "       [237,  75],\n",
       "       [260, 102],\n",
       "       [271, 136],\n",
       "       [268, 170],\n",
       "       [252, 201],\n",
       "       [227, 223],\n",
       "       [191, 235],\n",
       "       [158, 232],\n",
       "       [127, 216],\n",
       "       [104, 189],\n",
       "       [ 93, 154],\n",
       "       [ 97, 118],\n",
       "       [112,  90],\n",
       "       [139,  67],\n",
       "       [171,  57]], dtype=int32)"
      ]
     },
     "execution_count": 5,
     "metadata": {},
     "output_type": "execute_result"
    }
   ],
   "source": [
    "approx_circle_contour"
   ]
  },
  {
   "cell_type": "code",
   "execution_count": 6,
   "metadata": {},
   "outputs": [
    {
     "name": "stdout",
     "output_type": "stream",
     "text": [
      "[[268 170]\n",
      " [252 201]]\n"
     ]
    }
   ],
   "source": [
    "line = np.stack((approx_circle_contour[5], approx_circle_contour[6]), axis=0)\n",
    "print(line)"
   ]
  },
  {
   "cell_type": "code",
   "execution_count": 7,
   "metadata": {},
   "outputs": [
    {
     "name": "stdout",
     "output_type": "stream",
     "text": [
      "27.299572211332805\n"
     ]
    }
   ],
   "source": [
    "x1 = line[0,0]\n",
    "y1 = line[0,1]\n",
    "x2 = line[1,0]\n",
    "y2 = line[1,1]\n",
    "\n",
    "deltaX = x2 - x1\n",
    "deltaY = y2 - y1\n",
    "\n",
    "angle = abs(math.degrees(math.atan2(deltaX, deltaY)))\n",
    "print(angle)"
   ]
  },
  {
   "cell_type": "code",
   "execution_count": 8,
   "metadata": {},
   "outputs": [
    {
     "name": "stdout",
     "output_type": "stream",
     "text": [
      "[  0.   22.5  45.   67.5  90.  112.5 135.  157.5 180. ]\n"
     ]
    }
   ],
   "source": [
    "default_anlges = np.arange(0, 181.0, 22.5)\n",
    "print(default_anlges)"
   ]
  },
  {
   "cell_type": "code",
   "execution_count": 9,
   "metadata": {},
   "outputs": [],
   "source": [
    "def find_nearest(array, value):\n",
    "    idx = (np.abs(array - value)).argmin()\n",
    "    return array[idx]"
   ]
  },
  {
   "cell_type": "code",
   "execution_count": 10,
   "metadata": {},
   "outputs": [
    {
     "data": {
      "text/plain": [
       "22.5"
      ]
     },
     "execution_count": 10,
     "metadata": {},
     "output_type": "execute_result"
    }
   ],
   "source": [
    "find_nearest(default_anlges, angle)"
   ]
  }
 ],
 "metadata": {
  "kernelspec": {
   "display_name": "Python 3",
   "language": "python",
   "name": "python3"
  },
  "language_info": {
   "codemirror_mode": {
    "name": "ipython",
    "version": 3
   },
   "file_extension": ".py",
   "mimetype": "text/x-python",
   "name": "python",
   "nbconvert_exporter": "python",
   "pygments_lexer": "ipython3",
   "version": "3.7.6"
  }
 },
 "nbformat": 4,
 "nbformat_minor": 4
}
