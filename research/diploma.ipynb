{
 "cells": [
  {
   "cell_type": "code",
   "execution_count": 1,
   "metadata": {},
   "outputs": [
    {
     "name": "stdout",
     "output_type": "stream",
     "text": [
      "Requirement already satisfied: opencv-python in c:\\users\\user\\anaconda3\\lib\\site-packages (4.5.2.52)\n",
      "Requirement already satisfied: numpy>=1.14.5 in c:\\users\\user\\anaconda3\\lib\\site-packages (from opencv-python) (1.18.1)\n",
      "Note: you may need to restart the kernel to use updated packages.\n"
     ]
    }
   ],
   "source": [
    "pip install opencv-python"
   ]
  },
  {
   "cell_type": "code",
   "execution_count": 2,
   "metadata": {},
   "outputs": [],
   "source": [
    "import math\n",
    "import cv2 as cv\n",
    "import numpy as np\n",
    "\n",
    "from typing import List, Tuple\n",
    "from skimage.measure import approximate_polygon\n",
    "from sympy import Segment, Point, Line, N, acos"
   ]
  },
  {
   "cell_type": "code",
   "execution_count": 3,
   "metadata": {},
   "outputs": [],
   "source": [
    "img = cv.imread('test_picture_3.JPG')\n",
    "img_gray = cv.imread('test_picture_3.JPG', 0)\n",
    "\n",
    "ret, thresh = cv.threshold(img_gray, 230, 200, 0)\n",
    "contours, hierarchy = cv.findContours(thresh, cv.RETR_TREE, cv.CHAIN_APPROX_NONE)\n",
    "arrow_contour = np.squeeze(contours[6])\n",
    "approx_contour = approximate_polygon(arrow_contour, tolerance=2.5)"
   ]
  },
  {
   "cell_type": "code",
   "execution_count": 12,
   "metadata": {
    "scrolled": true
   },
   "outputs": [
    {
     "data": {
      "text/plain": [
       "array([[648,  79],\n",
       "       [819,  78],\n",
       "       [826,  81],\n",
       "       [835,  93],\n",
       "       [835, 230],\n",
       "       [830, 239],\n",
       "       [819, 245],\n",
       "       [649, 245],\n",
       "       [640, 240],\n",
       "       [634, 230],\n",
       "       [634,  93],\n",
       "       [647,  79]], dtype=int32)"
      ]
     },
     "execution_count": 12,
     "metadata": {},
     "output_type": "execute_result"
    }
   ],
   "source": [
    "contour = approx_contour \n",
    "contour"
   ]
  },
  {
   "cell_type": "code",
   "execution_count": 13,
   "metadata": {},
   "outputs": [],
   "source": [
    "segments = []\n",
    "lengths = []\n",
    "points = []\n",
    "for i in range(len(contour)):\n",
    "    point1 = contour[i]\n",
    "    point2 = contour[i + 1] if i < len(contour) - 1 else contour[0]\n",
    "    p1 = Point(point1[0], point1[1])\n",
    "    p2 = Point(point2[0], point2[1])\n",
    "    segment = Segment(p1, p2)\n",
    "    if p1 not in points:\n",
    "        points.append(p1)\n",
    "    if p2 not in points:\n",
    "        points.append(p2)\n",
    "    segments.append(segment)\n",
    "    lengths.append(N(segment.length))"
   ]
  },
  {
   "cell_type": "code",
   "execution_count": 9,
   "metadata": {
    "scrolled": true
   },
   "outputs": [
    {
     "data": {
      "text/plain": [
       "[Segment2D(Point2D(648, 79), Point2D(819, 78)),\n",
       " Segment2D(Point2D(819, 78), Point2D(826, 81)),\n",
       " Segment2D(Point2D(826, 81), Point2D(835, 93)),\n",
       " Segment2D(Point2D(835, 93), Point2D(835, 230)),\n",
       " Segment2D(Point2D(835, 230), Point2D(830, 239)),\n",
       " Segment2D(Point2D(830, 239), Point2D(819, 245)),\n",
       " Segment2D(Point2D(819, 245), Point2D(649, 245)),\n",
       " Segment2D(Point2D(649, 245), Point2D(640, 240)),\n",
       " Segment2D(Point2D(640, 240), Point2D(634, 230)),\n",
       " Segment2D(Point2D(634, 230), Point2D(634, 93)),\n",
       " Segment2D(Point2D(634, 93), Point2D(647, 79)),\n",
       " Segment2D(Point2D(647, 79), Point2D(648, 79))]"
      ]
     },
     "execution_count": 9,
     "metadata": {},
     "output_type": "execute_result"
    }
   ],
   "source": [
    "segments"
   ]
  },
  {
   "cell_type": "code",
   "execution_count": 10,
   "metadata": {
    "scrolled": true
   },
   "outputs": [
    {
     "data": {
      "text/plain": [
       "[171.002923951610,\n",
       " 7.61577310586391,\n",
       " 15.0000000000000,\n",
       " 137.000000000000,\n",
       " 10.2956301409870,\n",
       " 12.5299640861417,\n",
       " 170.000000000000,\n",
       " 10.2956301409870,\n",
       " 11.6619037896906,\n",
       " 137.000000000000,\n",
       " 19.1049731745428,\n",
       " 1.00000000000000]"
      ]
     },
     "execution_count": 10,
     "metadata": {},
     "output_type": "execute_result"
    }
   ],
   "source": [
    "lengths"
   ]
  },
  {
   "cell_type": "code",
   "execution_count": 14,
   "metadata": {
    "scrolled": true
   },
   "outputs": [
    {
     "data": {
      "text/plain": [
       "[Point2D(648, 79),\n",
       " Point2D(819, 78),\n",
       " Point2D(826, 81),\n",
       " Point2D(835, 93),\n",
       " Point2D(835, 230),\n",
       " Point2D(830, 239),\n",
       " Point2D(819, 245),\n",
       " Point2D(649, 245),\n",
       " Point2D(640, 240),\n",
       " Point2D(634, 230),\n",
       " Point2D(634, 93),\n",
       " Point2D(647, 79)]"
      ]
     },
     "execution_count": 14,
     "metadata": {},
     "output_type": "execute_result"
    }
   ],
   "source": [
    "points"
   ]
  },
  {
   "cell_type": "code",
   "execution_count": 15,
   "metadata": {},
   "outputs": [],
   "source": [
    "lengths = sorted(lengths)\n",
    "threshold = 0\n",
    "for i in range(len(lengths) - 1):\n",
    "    length = lengths[i]\n",
    "    if length < 3:\n",
    "        continue\n",
    "    next_length = lengths[i + 1]\n",
    "    if next_length / length > 4:\n",
    "        threshold = next_length\n",
    "        break"
   ]
  },
  {
   "cell_type": "code",
   "execution_count": 27,
   "metadata": {},
   "outputs": [
    {
     "data": {
      "text/latex": [
       "$\\displaystyle 7.17090773948593$"
      ],
      "text/plain": [
       "7.17090773948593"
      ]
     },
     "execution_count": 27,
     "metadata": {},
     "output_type": "execute_result"
    }
   ],
   "source": [
    "lengths[8]/lengths[7]"
   ]
  },
  {
   "cell_type": "code",
   "execution_count": 16,
   "metadata": {},
   "outputs": [
    {
     "data": {
      "text/latex": [
       "$\\displaystyle 137.0$"
      ],
      "text/plain": [
       "137.000000000000"
      ]
     },
     "execution_count": 16,
     "metadata": {},
     "output_type": "execute_result"
    }
   ],
   "source": [
    "threshold"
   ]
  },
  {
   "cell_type": "code",
   "execution_count": 28,
   "metadata": {},
   "outputs": [],
   "source": [
    "short_segments = [segment for segment in segments if N(segment.length) < threshold]\n",
    "singles = list(short_segments)"
   ]
  },
  {
   "cell_type": "code",
   "execution_count": 29,
   "metadata": {},
   "outputs": [
    {
     "data": {
      "text/plain": [
       "[Segment2D(Point2D(819, 78), Point2D(826, 81)),\n",
       " Segment2D(Point2D(826, 81), Point2D(835, 93)),\n",
       " Segment2D(Point2D(835, 230), Point2D(830, 239)),\n",
       " Segment2D(Point2D(830, 239), Point2D(819, 245)),\n",
       " Segment2D(Point2D(649, 245), Point2D(640, 240)),\n",
       " Segment2D(Point2D(640, 240), Point2D(634, 230)),\n",
       " Segment2D(Point2D(634, 93), Point2D(647, 79)),\n",
       " Segment2D(Point2D(647, 79), Point2D(648, 79))]"
      ]
     },
     "execution_count": 29,
     "metadata": {},
     "output_type": "execute_result"
    }
   ],
   "source": [
    "short_segments"
   ]
  },
  {
   "cell_type": "code",
   "execution_count": 30,
   "metadata": {
    "scrolled": true
   },
   "outputs": [
    {
     "data": {
      "text/plain": [
       "[Segment2D(Point2D(819, 78), Point2D(826, 81)),\n",
       " Segment2D(Point2D(826, 81), Point2D(835, 93)),\n",
       " Segment2D(Point2D(835, 230), Point2D(830, 239)),\n",
       " Segment2D(Point2D(830, 239), Point2D(819, 245)),\n",
       " Segment2D(Point2D(649, 245), Point2D(640, 240)),\n",
       " Segment2D(Point2D(640, 240), Point2D(634, 230)),\n",
       " Segment2D(Point2D(634, 93), Point2D(647, 79)),\n",
       " Segment2D(Point2D(647, 79), Point2D(648, 79))]"
      ]
     },
     "execution_count": 30,
     "metadata": {},
     "output_type": "execute_result"
    }
   ],
   "source": [
    "singles"
   ]
  },
  {
   "cell_type": "code",
   "execution_count": 32,
   "metadata": {},
   "outputs": [
    {
     "data": {
      "text/plain": [
       "list"
      ]
     },
     "execution_count": 32,
     "metadata": {},
     "output_type": "execute_result"
    }
   ],
   "source": [
    "type(singles)"
   ]
  },
  {
   "cell_type": "code",
   "execution_count": 33,
   "metadata": {},
   "outputs": [
    {
     "data": {
      "text/plain": [
       "list"
      ]
     },
     "execution_count": 33,
     "metadata": {},
     "output_type": "execute_result"
    }
   ],
   "source": [
    "type(short_segments)"
   ]
  },
  {
   "cell_type": "code",
   "execution_count": 34,
   "metadata": {},
   "outputs": [
    {
     "data": {
      "text/plain": [
       "8"
      ]
     },
     "execution_count": 34,
     "metadata": {},
     "output_type": "execute_result"
    }
   ],
   "source": [
    "len(singles)"
   ]
  },
  {
   "cell_type": "code",
   "execution_count": 36,
   "metadata": {},
   "outputs": [],
   "source": [
    "def segments_have_common_point(s1: Segment, s2: Segment) -> bool:\n",
    "    return s1.p1 == s2.p1 or s1.p1 == s2.p2 or s1.p2 == s2.p1 or s1.p2 == s2.p2"
   ]
  },
  {
   "cell_type": "code",
   "execution_count": 37,
   "metadata": {},
   "outputs": [],
   "source": [
    "def segments_in_group(s1: Segment, s2: Segment, group: List[Segment]) -> Segment:\n",
    "    segments = [s1, s2]\n",
    "    if s1 in group:\n",
    "        segments.remove(s1)\n",
    "    if s2 in group:\n",
    "        segments.remove(s2)\n",
    "    if len(segments) < 2:\n",
    "        return segments\n",
    "    return None"
   ]
  },
  {
   "cell_type": "code",
   "execution_count": 38,
   "metadata": {},
   "outputs": [],
   "source": [
    "adjacent_segments_groups = []\n",
    "\n",
    "for i in range(len(short_segments)):\n",
    "    for j in range(len(short_segments)):\n",
    "        if i == j:\n",
    "            continue\n",
    "        s1 = short_segments[i]\n",
    "        s2 = short_segments[j]\n",
    "        if segments_have_common_point(s1, s2):\n",
    "            if s1 in singles:\n",
    "                singles.remove(s1)\n",
    "            if s2 in singles:\n",
    "                singles.remove(s2)\n",
    "            found = False\n",
    "            for group in adjacent_segments_groups:\n",
    "                segment_to_add = segments_in_group(s1, s2, group)\n",
    "                if segment_to_add is not None:\n",
    "                    group.extend(segment_to_add)\n",
    "                    found = True\n",
    "            if not found:\n",
    "                adjacent_segments_groups.append([s1, s2])"
   ]
  },
  {
   "cell_type": "code",
   "execution_count": 39,
   "metadata": {},
   "outputs": [
    {
     "data": {
      "text/plain": [
       "[[Segment2D(Point2D(819, 78), Point2D(826, 81)),\n",
       "  Segment2D(Point2D(826, 81), Point2D(835, 93))],\n",
       " [Segment2D(Point2D(835, 230), Point2D(830, 239)),\n",
       "  Segment2D(Point2D(830, 239), Point2D(819, 245))],\n",
       " [Segment2D(Point2D(649, 245), Point2D(640, 240)),\n",
       "  Segment2D(Point2D(640, 240), Point2D(634, 230))],\n",
       " [Segment2D(Point2D(634, 93), Point2D(647, 79)),\n",
       "  Segment2D(Point2D(647, 79), Point2D(648, 79))]]"
      ]
     },
     "execution_count": 39,
     "metadata": {},
     "output_type": "execute_result"
    }
   ],
   "source": [
    "adjacent_segments_groups"
   ]
  },
  {
   "cell_type": "code",
   "execution_count": 43,
   "metadata": {},
   "outputs": [
    {
     "data": {
      "text/latex": [
       "$\\displaystyle Point2D\\left(\\frac{1649}{2}, 242\\right)$"
      ],
      "text/plain": [
       "Point2D(1649/2, 242)"
      ]
     },
     "execution_count": 43,
     "metadata": {},
     "output_type": "execute_result"
    }
   ],
   "source": [
    "adjacent_segments_groups[1][1].midpoint"
   ]
  },
  {
   "cell_type": "code",
   "execution_count": 44,
   "metadata": {},
   "outputs": [],
   "source": [
    "def get_segment_midpoint(segment: Segment) -> Point:\n",
    "    x = (segment.p1[0] + segment.p2[0]) // 2\n",
    "    y = (segment.p1[1] + segment.p2[1]) // 2\n",
    "    return Point(x, y)"
   ]
  },
  {
   "cell_type": "code",
   "execution_count": 45,
   "metadata": {},
   "outputs": [
    {
     "data": {
      "text/latex": [
       "$\\displaystyle Point2D\\left(824, 242\\right)$"
      ],
      "text/plain": [
       "Point2D(824, 242)"
      ]
     },
     "execution_count": 45,
     "metadata": {},
     "output_type": "execute_result"
    }
   ],
   "source": [
    "get_segment_midpoint(adjacent_segments_groups[1][1])"
   ]
  },
  {
   "cell_type": "code",
   "execution_count": 4,
   "metadata": {},
   "outputs": [
    {
     "data": {
      "text/plain": [
       "3.0"
      ]
     },
     "execution_count": 4,
     "metadata": {},
     "output_type": "execute_result"
    }
   ],
   "source": [
    "mean_list = [1,2,3,4,5]\n",
    "np.mean(mean_list)"
   ]
  },
  {
   "cell_type": "code",
   "execution_count": 5,
   "metadata": {},
   "outputs": [],
   "source": [
    "def mean(lst: list) -> float:\n",
    "    return sum(lst) / len(lst)"
   ]
  },
  {
   "cell_type": "code",
   "execution_count": 6,
   "metadata": {},
   "outputs": [
    {
     "data": {
      "text/plain": [
       "3.0"
      ]
     },
     "execution_count": 6,
     "metadata": {},
     "output_type": "execute_result"
    }
   ],
   "source": [
    "mean(mean_list)"
   ]
  },
  {
   "cell_type": "code",
   "execution_count": 4,
   "metadata": {},
   "outputs": [],
   "source": [
    "def segments_have_common_point(s1: Segment, s2: Segment) -> bool:\n",
    "    return s1.p1 == s2.p1 or s1.p1 == s2.p2 or s1.p2 == s2.p1 or s1.p2 == s2.p2"
   ]
  },
  {
   "cell_type": "code",
   "execution_count": 5,
   "metadata": {},
   "outputs": [],
   "source": [
    "def get_segment_midpoint(segment: Segment) -> Point:\n",
    "    x = (segment.p1[0] + segment.p2[0]) // 2\n",
    "    y = (segment.p1[1] + segment.p2[1]) // 2\n",
    "    return Point(x, y)"
   ]
  },
  {
   "cell_type": "code",
   "execution_count": 6,
   "metadata": {},
   "outputs": [],
   "source": [
    "def segments_in_group(s1: Segment, s2: Segment, group: List[Segment]) -> Segment:\n",
    "    segments = [s1, s2]\n",
    "    if s1 in group:\n",
    "        segments.remove(s1)\n",
    "    if s2 in group:\n",
    "        segments.remove(s2)\n",
    "    if len(segments) < 2:\n",
    "        return segments\n",
    "    return None"
   ]
  },
  {
   "cell_type": "code",
   "execution_count": 7,
   "metadata": {},
   "outputs": [],
   "source": [
    "def collect_adjacent_segment_groups(segments: List[Segment], threshold: float) -> List[Tuple[Segment, Segment]]:\n",
    "    adjacent_segments_groups = []\n",
    "    short_segments = [segment for segment in segments if N(segment.length) < threshold]\n",
    "    singles = list(short_segments)\n",
    "    for i in range(len(short_segments)):\n",
    "        for j in range(len(short_segments)):\n",
    "            if i == j:\n",
    "                continue\n",
    "            s1 = short_segments[i]\n",
    "            s2 = short_segments[j]\n",
    "            if segments_have_common_point(s1, s2):\n",
    "                if s1 in singles:\n",
    "                    singles.remove(s1)\n",
    "                if s2 in singles:\n",
    "                    singles.remove(s2)\n",
    "                found = False\n",
    "                for group in adjacent_segments_groups:\n",
    "                    segment_to_add = segments_in_group(s1, s2, group)\n",
    "                    if segment_to_add is not None:\n",
    "                        group.extend(segment_to_add)\n",
    "                        found = True\n",
    "                if not found:\n",
    "                    adjacent_segments_groups.append([s1, s2])\n",
    "    return adjacent_segments_groups"
   ]
  },
  {
   "cell_type": "code",
   "execution_count": 8,
   "metadata": {},
   "outputs": [],
   "source": [
    "def collect_segments_lengths(contour):\n",
    "    segments = []\n",
    "    lengths = []\n",
    "    points = []\n",
    "    for i in range(len(contour)):\n",
    "        point1 = contour[i]\n",
    "        point2 = contour[i + 1] if i < len(contour) - 1 else contour[0]\n",
    "        p1 = Point(point1[0], point1[1])\n",
    "        p2 = Point(point2[0], point2[1])\n",
    "        segment = Segment(p1, p2)\n",
    "        if p1 not in points:\n",
    "            points.append(p1)\n",
    "        if p2 not in points:\n",
    "            points.append(p2)\n",
    "        segments.append(segment)\n",
    "        lengths.append(N(segment.length))\n",
    "    return segments, points, lengths"
   ]
  },
  {
   "cell_type": "code",
   "execution_count": 9,
   "metadata": {},
   "outputs": [],
   "source": [
    "def find_splitting_threshold(lengths: List[float]) -> float:\n",
    "    lengths = sorted(lengths)\n",
    "    threshold = 0\n",
    "    for i in range(len(lengths) - 1):\n",
    "        length = lengths[i]\n",
    "        if length < 3:\n",
    "            continue\n",
    "        next_length = lengths[i + 1]\n",
    "        if next_length / length > 4:\n",
    "            threshold = next_length\n",
    "            break\n",
    "    return threshold"
   ]
  },
  {
   "cell_type": "code",
   "execution_count": 10,
   "metadata": {},
   "outputs": [],
   "source": [
    "def compute_roi_center(group: List[Segment]) -> List[Point]:\n",
    "    buffer = list(group)\n",
    "    while True:\n",
    "        if len(buffer) == 1:\n",
    "            midpoint = get_segment_midpoint(buffer[0])\n",
    "            return midpoint\n",
    "        \n",
    "        points = []\n",
    "        for segment in buffer:\n",
    "            midpoint = get_segment_midpoint(segment)\n",
    "            points.append(midpoint)\n",
    "\n",
    "        buffer = []\n",
    "        while len(points) > 1:\n",
    "            point1 = points.pop(0)\n",
    "            point2 = points.pop(0)\n",
    "            buffer.append(Segment(point1, point2))\n",
    "\n",
    "        if len(points) == 1:\n",
    "            buffer.append(Segment(point2, points[0]))"
   ]
  },
  {
   "cell_type": "code",
   "execution_count": 11,
   "metadata": {},
   "outputs": [],
   "source": [
    "def find_roi(contour):\n",
    "    roi_centers = []\n",
    "    segments, points, lengths = collect_segments_lengths(contour)\n",
    "\n",
    "    threshold = find_splitting_threshold(lengths)\n",
    "\n",
    "    if threshold > 0:\n",
    "        adjacent_segments_groups = collect_adjacent_segment_groups(segments, threshold)\n",
    "\n",
    "        for group in adjacent_segments_groups:\n",
    "            for segment in group:\n",
    "                if segment.p1 in points:\n",
    "                    del points[points.index(segment.p1)]\n",
    "                if segment.p2 in points:\n",
    "                    del points[points.index(segment.p2)]\n",
    "\n",
    "        for group in adjacent_segments_groups:\n",
    "            roi_center = compute_roi_center(group)\n",
    "            roi_centers.append(roi_center)\n",
    "\n",
    "    roi_centers.extend(points)\n",
    "\n",
    "    return roi_centers"
   ]
  },
  {
   "cell_type": "code",
   "execution_count": 12,
   "metadata": {},
   "outputs": [],
   "source": [
    "def main():\n",
    "    img = cv.imread('test_picture_3.JPG')\n",
    "    img_gray = cv.imread('test_picture_3.JPG', 0)\n",
    "    \n",
    "    ret, thresh = cv.threshold(img_gray, 230, 200, 0)\n",
    "    contours, hierarchy = cv.findContours(thresh, cv.RETR_TREE, cv.CHAIN_APPROX_NONE)\n",
    "    arrow_contour = np.squeeze(contours[6])\n",
    "    approx_contour = approximate_polygon(arrow_contour, tolerance=2.5)\n",
    "    roi = find_roi(approx_contour)\n",
    "\n",
    "    for point in roi:\n",
    "        cv.circle(img, (int(point[0]), int(point[1])), 4, (0, 0, 255), -1)\n",
    "\n",
    "    for point in approx_contour:\n",
    "        cv.circle(img, (point[0], point[1]), 2, (0, 0, 0), -1)\n",
    "\n",
    "    cv.imwrite('contoured.jpg', img)\n",
    "    cv.imshow('Image', img)\n",
    "    cv.waitKey(0)\n",
    "    cv.destroyAllWindows()"
   ]
  },
  {
   "cell_type": "code",
   "execution_count": 13,
   "metadata": {},
   "outputs": [],
   "source": [
    "if __name__ == '__main__':\n",
    "    main()"
   ]
  }
 ],
 "metadata": {
  "kernelspec": {
   "display_name": "Python 3",
   "language": "python",
   "name": "python3"
  },
  "language_info": {
   "codemirror_mode": {
    "name": "ipython",
    "version": 3
   },
   "file_extension": ".py",
   "mimetype": "text/x-python",
   "name": "python",
   "nbconvert_exporter": "python",
   "pygments_lexer": "ipython3",
   "version": "3.7.6"
  }
 },
 "nbformat": 4,
 "nbformat_minor": 4
}
